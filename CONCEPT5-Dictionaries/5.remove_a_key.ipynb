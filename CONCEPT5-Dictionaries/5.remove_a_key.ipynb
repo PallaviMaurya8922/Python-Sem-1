{
 "cells": [
  {
   "cell_type": "markdown",
   "metadata": {},
   "source": [
    "Remove a key from a dictionary:\n",
    "dict_name.pop(key_name)\n",
    "What does this function return?\n",
    "Use pop to rename a key."
   ]
  },
  {
   "cell_type": "code",
   "execution_count": 15,
   "metadata": {},
   "outputs": [
    {
     "name": "stdout",
     "output_type": "stream",
     "text": [
      "{'b': 2, 'c': 4, 'd': 3}\n",
      "\n",
      "\n",
      "{'c': 4, 'd': 2}\n"
     ]
    }
   ],
   "source": [
    "dict1={'a':1, 'b':2, 'c':4, 'd':3}\n",
    "# Removing key 'a' using pop function.\n",
    "dict1.pop('a')\n",
    "print(dict1)\n",
    "\n",
    "# Renamig a key using pop function.\n",
    "print(\"\\n\")\n",
    "dict1['d']=dict1.pop('b')\n",
    "print(dict1)"
   ]
  },
  {
   "cell_type": "code",
   "execution_count": null,
   "metadata": {},
   "outputs": [],
   "source": []
  }
 ],
 "metadata": {
  "kernelspec": {
   "display_name": "Python 3",
   "language": "python",
   "name": "python3"
  },
  "language_info": {
   "codemirror_mode": {
    "name": "ipython",
    "version": 3
   },
   "file_extension": ".py",
   "mimetype": "text/x-python",
   "name": "python",
   "nbconvert_exporter": "python",
   "pygments_lexer": "ipython3",
   "version": "3.11.4"
  }
 },
 "nbformat": 4,
 "nbformat_minor": 2
}
