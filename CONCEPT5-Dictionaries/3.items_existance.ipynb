{
 "cells": [
  {
   "cell_type": "markdown",
   "metadata": {},
   "source": [
    "Check if a key exists in a dictionary:\n",
    "\n",
    "sample_dict = {‘a’: 100, ‘b’: 200, ‘c’: 300}\n",
    "# key_needed = ‘d’\n",
    "\n",
    "Check if a value exists in a dictionary:\n",
    "\n",
    "sample_dict = {‘a’: 100, ‘b’: 200, ‘c’: 300}\n",
    "# value_needed = 200"
   ]
  },
  {
   "cell_type": "code",
   "execution_count": 23,
   "metadata": {},
   "outputs": [
    {
     "name": "stdout",
     "output_type": "stream",
     "text": [
      "Key does not exist\n"
     ]
    }
   ],
   "source": [
    "mydict={'a': 100, 'b':200, 'c': 300}\n",
    "my_value=int(input('enter a value'))\n",
    "my_key=(input('enter a key'))\n",
    "# Here we check if key is present or not.\n",
    "if my_key in mydict.keys():\n",
    "    print('Key exists')\n",
    "else:\n",
    "    print('Key does not exist')\n",
    "    \n",
    "if my_value in mydict.values():\n",
    "    print('Value exists')\n",
    "else:\n",
    "    ('Value does not exist')"
   ]
  },
  {
   "cell_type": "code",
   "execution_count": null,
   "metadata": {},
   "outputs": [],
   "source": []
  }
 ],
 "metadata": {
  "kernelspec": {
   "display_name": "Python 3",
   "language": "python",
   "name": "python3"
  },
  "language_info": {
   "codemirror_mode": {
    "name": "ipython",
    "version": 3
   },
   "file_extension": ".py",
   "mimetype": "text/x-python",
   "name": "python",
   "nbconvert_exporter": "python",
   "pygments_lexer": "ipython3",
   "version": "3.11.4"
  }
 },
 "nbformat": 4,
 "nbformat_minor": 2
}
