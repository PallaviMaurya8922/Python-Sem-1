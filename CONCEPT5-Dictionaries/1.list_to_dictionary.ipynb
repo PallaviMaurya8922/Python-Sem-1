{
 "cells": [
  {
   "cell_type": "markdown",
   "metadata": {},
   "source": [
    "Convert these two lists into a dictionary. Take the keys from the first list, and values from the second one.\n",
    "\n",
    "keys = [‘Ten’, ‘Twenty’, ‘Thirty’]\n",
    "\n",
    "values = [10, 20, 30]"
   ]
  },
  {
   "cell_type": "code",
   "execution_count": 9,
   "metadata": {},
   "outputs": [],
   "source": [
    "# Here we are taking input of two lists and list1 is used as key and list2 as corresponding value from user.\n",
    "\n",
    "def myfunc(keys,values):\n",
    "    x=len(keys)\n",
    "    y=len(values)\n",
    "\n",
    "    # Here first we will check if length of both the lists are equal or not\n",
    "    # If it is equal we iterate over elements of range of the length and appnend the keys and corresponding values to the dictionaries.\n",
    "    this_dict= {}\n",
    "    if x==y:\n",
    "        for i in range(x):\n",
    "            this_dict[keys[i]]=values[i]\n",
    "        return this_dict\n",
    "    else:\n",
    "        return 'Length not equal'"
   ]
  },
  {
   "cell_type": "code",
   "execution_count": 10,
   "metadata": {},
   "outputs": [
    {
     "data": {
      "text/plain": [
       "{'Ten': 10, 'Twenty': 20, 'Thirty': 30}"
      ]
     },
     "execution_count": 10,
     "metadata": {},
     "output_type": "execute_result"
    }
   ],
   "source": [
    "keys = ['Ten', 'Twenty', 'Thirty']\n",
    "values = [10, 20, 30]\n",
    "myfunc(keys,values)\n"
   ]
  },
  {
   "cell_type": "code",
   "execution_count": 11,
   "metadata": {},
   "outputs": [
    {
     "data": {
      "text/plain": [
       "'Length not equal'"
      ]
     },
     "execution_count": 11,
     "metadata": {},
     "output_type": "execute_result"
    }
   ],
   "source": [
    "keys=['One', 'Two', 'Three']\n",
    "values=[1, 2, 3, 4]\n",
    "myfunc(keys, values)"
   ]
  },
  {
   "cell_type": "code",
   "execution_count": null,
   "metadata": {},
   "outputs": [],
   "source": []
  }
 ],
 "metadata": {
  "kernelspec": {
   "display_name": "Python 3",
   "language": "python",
   "name": "python3"
  },
  "language_info": {
   "codemirror_mode": {
    "name": "ipython",
    "version": 3
   },
   "file_extension": ".py",
   "mimetype": "text/x-python",
   "name": "python",
   "nbconvert_exporter": "python",
   "pygments_lexer": "ipython3",
   "version": "3.11.4"
  }
 },
 "nbformat": 4,
 "nbformat_minor": 2
}
