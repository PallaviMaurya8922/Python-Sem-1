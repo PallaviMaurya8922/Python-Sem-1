{
 "cells": [
  {
   "cell_type": "markdown",
   "metadata": {},
   "source": [
    "Given a list of integers, find all pairs of integers in the list whose sum is zero."
   ]
  },
  {
   "cell_type": "code",
   "execution_count": 18,
   "metadata": {},
   "outputs": [],
   "source": [
    "def this_func(listin):\n",
    "    \n",
    "    # Here we have created a list of non positive elements and positive element.\n",
    "\n",
    "    # We iterate the loop over both the lists and a combination of positive and negative is going to give us zero.\n",
    "    # We append list of all the combination in a new empty list.\n",
    "    # All the pairs are going to append in the list_pair.\n",
    "    # Positive numbers are appended in list_positive and non-positive in list_nonpositive.\n",
    "    list_pair=[ ]\n",
    "    list_positive=[ ]\n",
    "    list_nonpositive=[ ]\n",
    "\n",
    "    for x in listin:\n",
    "        if x>0:\n",
    "            list_positive.append(x)\n",
    "        else:\n",
    "            list_nonpositive.append(x)\n",
    "\n",
    "    for x in list_positive:\n",
    "        for y in list_nonpositive:\n",
    "            if (x+y)==0:\n",
    "                list_pair.append([x,y]) \n",
    "    return list_pair\n",
    "    "
   ]
  },
  {
   "cell_type": "code",
   "execution_count": 16,
   "metadata": {},
   "outputs": [
    {
     "data": {
      "text/plain": [
       "[[23, -23], [14, -14]]"
      ]
     },
     "execution_count": 16,
     "metadata": {},
     "output_type": "execute_result"
    }
   ],
   "source": [
    "listin=[23, 14, 20, -23, -14]\n",
    "this_func(listin)"
   ]
  },
  {
   "cell_type": "code",
   "execution_count": 19,
   "metadata": {},
   "outputs": [
    {
     "data": {
      "text/plain": [
       "[[34, -34], [3, -3], [4, -4]]"
      ]
     },
     "execution_count": 19,
     "metadata": {},
     "output_type": "execute_result"
    }
   ],
   "source": [
    "listin=[34,3,2,-34,4,-3,-4]\n",
    "this_func(listin)"
   ]
  },
  {
   "cell_type": "code",
   "execution_count": null,
   "metadata": {},
   "outputs": [],
   "source": []
  }
 ],
 "metadata": {
  "kernelspec": {
   "display_name": "Python 3",
   "language": "python",
   "name": "python3"
  },
  "language_info": {
   "codemirror_mode": {
    "name": "ipython",
    "version": 3
   },
   "file_extension": ".py",
   "mimetype": "text/x-python",
   "name": "python",
   "nbconvert_exporter": "python",
   "pygments_lexer": "ipython3",
   "version": "3.11.4"
  }
 },
 "nbformat": 4,
 "nbformat_minor": 2
}
