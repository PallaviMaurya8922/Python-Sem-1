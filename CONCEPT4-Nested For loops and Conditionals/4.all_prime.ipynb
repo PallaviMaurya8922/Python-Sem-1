{
 "cells": [
  {
   "cell_type": "markdown",
   "metadata": {},
   "source": [
    "Given a positive integer, find out all prime numbers from 1 up to this number."
   ]
  },
  {
   "cell_type": "code",
   "execution_count": 6,
   "metadata": {},
   "outputs": [],
   "source": [
    "def func_prime(n):\n",
    "    list_prime=[ ]\n",
    "    # Numbers which have only two factors that is one and the number itself. Zero and one are neither prime nor composite.\n",
    "    # Here we iterate over each number from '2' to 'n' and check if it prime or not.\n",
    "    for i in range(2,n+1):\n",
    "        limit=int((i**0.5)+1)\n",
    "        count=0\n",
    "        for j in range(2,limit):\n",
    "            if i%j==0:\n",
    "                count=count+1\n",
    "        if count==0:\n",
    "            list_prime.append(i)\n",
    "    return list_prime"
   ]
  },
  {
   "cell_type": "code",
   "execution_count": 7,
   "metadata": {},
   "outputs": [
    {
     "data": {
      "text/plain": [
       "[2, 3, 5, 7, 11, 13, 17, 19, 23]"
      ]
     },
     "execution_count": 7,
     "metadata": {},
     "output_type": "execute_result"
    }
   ],
   "source": [
    "func_prime(25)"
   ]
  },
  {
   "cell_type": "code",
   "execution_count": 8,
   "metadata": {},
   "outputs": [
    {
     "data": {
      "text/plain": [
       "[2]"
      ]
     },
     "execution_count": 8,
     "metadata": {},
     "output_type": "execute_result"
    }
   ],
   "source": [
    "func_prime(2)"
   ]
  },
  {
   "cell_type": "code",
   "execution_count": null,
   "metadata": {},
   "outputs": [],
   "source": []
  }
 ],
 "metadata": {
  "kernelspec": {
   "display_name": "Python 3",
   "language": "python",
   "name": "python3"
  },
  "language_info": {
   "codemirror_mode": {
    "name": "ipython",
    "version": 3
   },
   "file_extension": ".py",
   "mimetype": "text/x-python",
   "name": "python",
   "nbconvert_exporter": "python",
   "pygments_lexer": "ipython3",
   "version": "3.11.4"
  }
 },
 "nbformat": 4,
 "nbformat_minor": 2
}
