{
 "cells": [
  {
   "cell_type": "markdown",
   "metadata": {},
   "source": [
    "Given a positive integer convert it into binary and vice versa."
   ]
  },
  {
   "cell_type": "code",
   "execution_count": 1,
   "metadata": {},
   "outputs": [],
   "source": [
    "def func_binary(n):\n",
    "    # Create an empty list to append digits of binary number.\n",
    "    binary_digits=[]\n",
    "    # Here we append remainder on dividing by 2 which is going to be zero or one.\n",
    "    # Also each time two is deviding the quotient obtained in previous step.\n",
    "    # This process goes until n gets updated to zero.\n",
    "\n",
    "    while n>0:\n",
    "        binary_digits.append(n%2)\n",
    "        n=n//2\n",
    "    list_req=list(reversed(binary_digits))\n",
    "    return list_req"
   ]
  },
  {
   "cell_type": "code",
   "execution_count": 4,
   "metadata": {},
   "outputs": [
    {
     "data": {
      "text/plain": [
       "[1, 1, 1, 1, 0]"
      ]
     },
     "execution_count": 4,
     "metadata": {},
     "output_type": "execute_result"
    }
   ],
   "source": [
    "func_binary(30)"
   ]
  },
  {
   "cell_type": "code",
   "execution_count": 5,
   "metadata": {},
   "outputs": [
    {
     "data": {
      "text/plain": [
       "[1, 0, 1, 1, 0, 1]"
      ]
     },
     "execution_count": 5,
     "metadata": {},
     "output_type": "execute_result"
    }
   ],
   "source": [
    "func_binary(45)"
   ]
  },
  {
   "cell_type": "code",
   "execution_count": 6,
   "metadata": {},
   "outputs": [],
   "source": [
    "# Converting a binary number to decimal.\n",
    "# Enter a binary number that has to be converted into decimal number.\n",
    "def func_decimal(n):\n",
    "    # Create a list to store digits of binary number.\n",
    "    # We store the digits. But stored digits here are in reversed order.\n",
    "    reversed_digit=[ ]\n",
    "    while n>0:\n",
    "        reversed_digit.append(n%10)\n",
    "        n=n//10\n",
    "    b=0\n",
    "    for i in range(len(reversed_digit)):\n",
    "        b=((2**i)*(reversed_digit[i]))+b\n",
    "    return b"
   ]
  },
  {
   "cell_type": "code",
   "execution_count": 7,
   "metadata": {},
   "outputs": [
    {
     "data": {
      "text/plain": [
       "25"
      ]
     },
     "execution_count": 7,
     "metadata": {},
     "output_type": "execute_result"
    }
   ],
   "source": [
    "func_decimal(11001)"
   ]
  },
  {
   "cell_type": "code",
   "execution_count": 8,
   "metadata": {},
   "outputs": [
    {
     "data": {
      "text/plain": [
       "19"
      ]
     },
     "execution_count": 8,
     "metadata": {},
     "output_type": "execute_result"
    }
   ],
   "source": [
    "func_decimal(10011)"
   ]
  },
  {
   "cell_type": "code",
   "execution_count": null,
   "metadata": {},
   "outputs": [],
   "source": []
  }
 ],
 "metadata": {
  "kernelspec": {
   "display_name": "Python 3",
   "language": "python",
   "name": "python3"
  },
  "language_info": {
   "codemirror_mode": {
    "name": "ipython",
    "version": 3
   },
   "file_extension": ".py",
   "mimetype": "text/x-python",
   "name": "python",
   "nbconvert_exporter": "python",
   "pygments_lexer": "ipython3",
   "version": "3.11.4"
  }
 },
 "nbformat": 4,
 "nbformat_minor": 2
}
