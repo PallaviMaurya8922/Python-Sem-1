{
 "cells": [
  {
   "cell_type": "markdown",
   "metadata": {},
   "source": [
    "4.Given a list of numbers, find out the mean and standard deviation."
   ]
  },
  {
   "cell_type": "code",
   "execution_count": 3,
   "metadata": {},
   "outputs": [],
   "source": [
    "# Here x is any element in listin\n",
    "def my_func(listin):\n",
    "    l=0\n",
    "    s=0\n",
    "    for x in listin:\n",
    "        l=l+1\n",
    "        s=s+x\n",
    "    Mean=s/l\n",
    "    # Standard deviation is- \n",
    "    # ((summation of (x-mean)**2)/(l))**0.5\n",
    "    \n",
    "    # Loop is iterated over each element and summation of the term (x-mean)**2) is obtained as'b'.\n",
    "    b=0\n",
    "    for x in listin:\n",
    "        n=(x-Mean)**2\n",
    "        b=b+n\n",
    "    SD=(b/l)**0.5\n",
    "\n",
    "    return Mean,SD"
   ]
  },
  {
   "cell_type": "code",
   "execution_count": 4,
   "metadata": {},
   "outputs": [
    {
     "data": {
      "text/plain": [
       "(20.75, 11.648497757221744)"
      ]
     },
     "execution_count": 4,
     "metadata": {},
     "output_type": "execute_result"
    }
   ],
   "source": [
    "my_func([2,24,34,23])"
   ]
  },
  {
   "cell_type": "code",
   "execution_count": null,
   "metadata": {},
   "outputs": [],
   "source": []
  },
  {
   "cell_type": "code",
   "execution_count": null,
   "metadata": {},
   "outputs": [],
   "source": []
  }
 ],
 "metadata": {
  "kernelspec": {
   "display_name": "Python 3",
   "language": "python",
   "name": "python3"
  },
  "language_info": {
   "codemirror_mode": {
    "name": "ipython",
    "version": 3
   },
   "file_extension": ".py",
   "mimetype": "text/x-python",
   "name": "python",
   "nbconvert_exporter": "python",
   "pygments_lexer": "ipython3",
   "version": "3.11.4"
  }
 },
 "nbformat": 4,
 "nbformat_minor": 2
}
