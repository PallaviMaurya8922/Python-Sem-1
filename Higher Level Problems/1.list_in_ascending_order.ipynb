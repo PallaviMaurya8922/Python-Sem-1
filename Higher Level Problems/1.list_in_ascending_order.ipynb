{
 "cells": [
  {
   "cell_type": "code",
   "execution_count": 9,
   "metadata": {},
   "outputs": [],
   "source": [
    "def func(listin):\n",
    "\n",
    "    # Create an empty list to append the numbers in ascending order.\n",
    "    # First we append minimum number of the list in required list and remove it from the original list.\n",
    "    # Again we are appending minimum of the updated list in which the number which has been appended to the required list is no more there.\n",
    "    #  We repeat the process as many times as the length of original list.\n",
    "    # Thus we get the list in ascending order.\n",
    "    list_ascending=[ ]\n",
    "    l=len(listin)\n",
    "\n",
    "    for i in range(l):\n",
    "        min_num=listin[0]\n",
    "        for x in listin:\n",
    "            if x<min_num:\n",
    "                min_num=x\n",
    "        list_ascending.append(min_num)\n",
    "        listin.remove(min_num)\n",
    "    return list_ascending\n",
    "\n",
    "    "
   ]
  },
  {
   "cell_type": "code",
   "execution_count": 10,
   "metadata": {},
   "outputs": [
    {
     "data": {
      "text/plain": [
       "[-3, 2, 6, 12, 30]"
      ]
     },
     "execution_count": 10,
     "metadata": {},
     "output_type": "execute_result"
    }
   ],
   "source": [
    "func([12,6,30,-3,2])"
   ]
  },
  {
   "cell_type": "code",
   "execution_count": 11,
   "metadata": {},
   "outputs": [
    {
     "data": {
      "text/plain": [
       "[-23, -9, 0, 1, 20, 33]"
      ]
     },
     "execution_count": 11,
     "metadata": {},
     "output_type": "execute_result"
    }
   ],
   "source": [
    "func([33,20,0,-23,-9,1])"
   ]
  },
  {
   "cell_type": "code",
   "execution_count": 12,
   "metadata": {},
   "outputs": [
    {
     "data": {
      "text/plain": [
       "[2, 2, 2, 10, 20, 23, 23, 29]"
      ]
     },
     "execution_count": 12,
     "metadata": {},
     "output_type": "execute_result"
    }
   ],
   "source": [
    "func([23,2,2,29,20,2,10,23])"
   ]
  },
  {
   "cell_type": "code",
   "execution_count": null,
   "metadata": {},
   "outputs": [],
   "source": []
  }
 ],
 "metadata": {
  "kernelspec": {
   "display_name": "Python 3",
   "language": "python",
   "name": "python3"
  },
  "language_info": {
   "codemirror_mode": {
    "name": "ipython",
    "version": 3
   },
   "file_extension": ".py",
   "mimetype": "text/x-python",
   "name": "python",
   "nbconvert_exporter": "python",
   "pygments_lexer": "ipython3",
   "version": "3.11.4"
  }
 },
 "nbformat": 4,
 "nbformat_minor": 2
}
