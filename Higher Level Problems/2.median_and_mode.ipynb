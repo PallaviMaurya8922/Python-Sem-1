{
 "cells": [
  {
   "cell_type": "code",
   "execution_count": 108,
   "metadata": {},
   "outputs": [],
   "source": [
    "def mode_median(listin):\n",
    "    # Finding median of given numbers.\n",
    "    # We arrange the list in ascending or descending order. So, Here We will create list in ascending order.\n",
    "\n",
    "    # Create an empty list to append the numbers in ascending order.\n",
    "    # First we append minimum number of the list in required list and remove it from the original list.\n",
    "    # Again we are appending minimum of the updated list in which the number which has been appended to the required list is no more there.\n",
    "    # We repeat the process as many times as the length of original list.\n",
    "    # Thus we get the list in ascending order.\n",
    "    list_ascending=[ ]\n",
    "    l=len(listin)\n",
    "\n",
    "    for i in range(l):\n",
    "        min_num=listin[0]\n",
    "        for x in listin:\n",
    "            if x<min_num:\n",
    "                min_num=x\n",
    "        list_ascending.append(min_num)\n",
    "        listin.remove(min_num)\n",
    "    \n",
    "    \n",
    "    # Two cases are there-\n",
    "\n",
    "        # When lenth of ascending list is even then there will be no middle element. In that case mean of two middle element is median.\n",
    "     \n",
    "    if l%2==0:\n",
    "        median=(list_ascending[int(l/2)]+list_ascending[int((l/2)-1)])/(2)\n",
    "\n",
    "        # When length of given list is odd then middle element is median. \n",
    "    else:\n",
    "        median=list_ascending[int(l/2)]\n",
    "\n",
    "    # Mode is the number with highest frequency.\n",
    "    # To find mode, first we make a dictionary with numbers as key and their occurance as values.\n",
    "    # Create an empty list \n",
    "    list_unique=[ ]\n",
    "    occurance={ }\n",
    "    for j in list_ascending:\n",
    "        if j not in list_unique:\n",
    "            list_unique.append(j)\n",
    "    \n",
    "\n",
    "    for i in list_unique:\n",
    "        count=0\n",
    "        for j in list_ascending:\n",
    "            if i==j:\n",
    "                count=count+1\n",
    "        occurance[i]=count\n",
    "    \n",
    "    # Here are three cases while calculating mode.\n",
    "        # 1. Only one mode.\n",
    "        # 2. No mode defined.\n",
    "        # 3. More than one mode.\n",
    "\n",
    "    \n",
    "    m=len(list_unique)\n",
    "        #1. When every number occurs only once. \n",
    "          # In this case mode is not defined.\n",
    "          # length of 'list_unique' will be same as length of 'listin'\n",
    "    if m==l:\n",
    "        mode='Not defined'\n",
    "        #2. When occurance of atleast one number is more than one.\n",
    "           # ~In this case length of unique list is going to be less than that of original list.\n",
    "              \n",
    "             # _If highest occurance is occuring just once then there is one mode only.\n",
    "             # _In case where highest occurance is more than one time there are more than one mode defined. \n",
    "    else:\n",
    "        list_mode=[ ]\n",
    "        max=1\n",
    "        for value in occurance.values():\n",
    "            if value>max:\n",
    "                max=value\n",
    "        for key, value in occurance.items():\n",
    "            if value==max:\n",
    "                list_mode.append(key)\n",
    "        mode=list_mode\n",
    " \n",
    "    dict_req={ }\n",
    "    dict_req['median']=median\n",
    "    dict_req['mode']=mode\n",
    "    return dict_req"
   ]
  },
  {
   "cell_type": "code",
   "execution_count": 103,
   "metadata": {},
   "outputs": [
    {
     "data": {
      "text/plain": [
       "{'median': 11, 'mode': [3, 22]}"
      ]
     },
     "execution_count": 103,
     "metadata": {},
     "output_type": "execute_result"
    }
   ],
   "source": [
    "mode_median([22,3,22,6,44,32,8,11,3])"
   ]
  },
  {
   "cell_type": "code",
   "execution_count": 104,
   "metadata": {},
   "outputs": [
    {
     "data": {
      "text/plain": [
       "{'median': 34, 'mode': [2, 34]}"
      ]
     },
     "execution_count": 104,
     "metadata": {},
     "output_type": "execute_result"
    }
   ],
   "source": [
    "mode_median([2,2,2, 34,34,34, 67, 80,80])"
   ]
  },
  {
   "cell_type": "code",
   "execution_count": 109,
   "metadata": {},
   "outputs": [
    {
     "data": {
      "text/plain": [
       "{'median': 28.5, 'mode': [23]}"
      ]
     },
     "execution_count": 109,
     "metadata": {},
     "output_type": "execute_result"
    }
   ],
   "source": [
    "mode_median([23, 2, 34, 64 ,23,36])"
   ]
  },
  {
   "cell_type": "code",
   "execution_count": 106,
   "metadata": {},
   "outputs": [
    {
     "data": {
      "text/plain": [
       "{'median': 3, 'mode': [1, 2, 3]}"
      ]
     },
     "execution_count": 106,
     "metadata": {},
     "output_type": "execute_result"
    }
   ],
   "source": [
    "mode_median([2,34,1,1,66,4,22,2,3,2,7,2,1,3,3,1,3])"
   ]
  },
  {
   "cell_type": "code",
   "execution_count": 110,
   "metadata": {},
   "outputs": [
    {
     "data": {
      "text/plain": [
       "{'median': 36.5, 'mode': 'Not defined'}"
      ]
     },
     "execution_count": 110,
     "metadata": {},
     "output_type": "execute_result"
    }
   ],
   "source": [
    "mode_median([23,33,68,40])"
   ]
  },
  {
   "cell_type": "code",
   "execution_count": null,
   "metadata": {},
   "outputs": [],
   "source": []
  }
 ],
 "metadata": {
  "kernelspec": {
   "display_name": "Python 3",
   "language": "python",
   "name": "python3"
  },
  "language_info": {
   "codemirror_mode": {
    "name": "ipython",
    "version": 3
   },
   "file_extension": ".py",
   "mimetype": "text/x-python",
   "name": "python",
   "nbconvert_exporter": "python",
   "pygments_lexer": "ipython3",
   "version": "3.11.4"
  }
 },
 "nbformat": 4,
 "nbformat_minor": 2
}
