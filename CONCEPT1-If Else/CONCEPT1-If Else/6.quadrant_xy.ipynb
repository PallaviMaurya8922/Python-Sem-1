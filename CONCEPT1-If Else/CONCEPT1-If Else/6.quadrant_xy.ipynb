{
 "cells": [
  {
   "cell_type": "markdown",
   "metadata": {},
   "source": [
    "6.Given a point (x1, y1), find the quadrant in which this point lies."
   ]
  },
  {
   "cell_type": "code",
   "execution_count": 17,
   "metadata": {},
   "outputs": [],
   "source": [
    "# take two points as input from user. \n",
    "# In this problem firstly if condition will be checked. If it comes true then Nested conditionals written inside that block will be checked.\n",
    "#  Whichever condition comes true output will be returned corresponding to that. If none of them(Nested conditionals) comes true then it will go to elif... and so on. \n",
    "def func_quadrant(x,y):\n",
    "\n",
    "    if x>0:\n",
    "        if y<0:\n",
    "            output=\"Point lies in fourth quadrant.\"\n",
    "        elif y>0:\n",
    "            output=\"Point lies in first quadrant.\"\n",
    "        else:\n",
    "            output=\"Point lies on positive x axis.\"\n",
    "        \n",
    "    elif x<0:\n",
    "        if y<0:\n",
    "            output=\"Point lies in third quadrant.\"\n",
    "        elif y>0:\n",
    "            output=\"Point lies in second quadrant.\"\n",
    "        else:\n",
    "            output=\"Point lies on negative x axis.\"\n",
    "        \n",
    "    else:\n",
    "        if y<0:\n",
    "            output=\"Point lies on negative y axis.\"\n",
    "        elif y>0:\n",
    "            output=\"Point lies on positive y axis.\"\n",
    "        else:\n",
    "            output=\"Point is at origin.\"\n",
    "    return output"
   ]
  },
  {
   "cell_type": "code",
   "execution_count": 18,
   "metadata": {},
   "outputs": [
    {
     "data": {
      "text/plain": [
       "'Point lies in second quadrant.'"
      ]
     },
     "execution_count": 18,
     "metadata": {},
     "output_type": "execute_result"
    }
   ],
   "source": [
    "func_quadrant(-41,7)"
   ]
  },
  {
   "cell_type": "code",
   "execution_count": 19,
   "metadata": {},
   "outputs": [
    {
     "data": {
      "text/plain": [
       "'Point lies in first quadrant.'"
      ]
     },
     "execution_count": 19,
     "metadata": {},
     "output_type": "execute_result"
    }
   ],
   "source": [
    "func_quadrant(10,20)"
   ]
  },
  {
   "cell_type": "code",
   "execution_count": 21,
   "metadata": {},
   "outputs": [
    {
     "data": {
      "text/plain": [
       "'Point lies in fourth quadrant.'"
      ]
     },
     "execution_count": 21,
     "metadata": {},
     "output_type": "execute_result"
    }
   ],
   "source": [
    "func_quadrant(20,-2)"
   ]
  },
  {
   "cell_type": "code",
   "execution_count": 22,
   "metadata": {},
   "outputs": [
    {
     "data": {
      "text/plain": [
       "'Point is at origin.'"
      ]
     },
     "execution_count": 22,
     "metadata": {},
     "output_type": "execute_result"
    }
   ],
   "source": [
    "func_quadrant(0,0)"
   ]
  },
  {
   "cell_type": "code",
   "execution_count": 23,
   "metadata": {},
   "outputs": [
    {
     "data": {
      "text/plain": [
       "'Point lies in third quadrant.'"
      ]
     },
     "execution_count": 23,
     "metadata": {},
     "output_type": "execute_result"
    }
   ],
   "source": [
    "func_quadrant(-11,-29)"
   ]
  },
  {
   "cell_type": "code",
   "execution_count": null,
   "metadata": {},
   "outputs": [],
   "source": []
  }
 ],
 "metadata": {
  "kernelspec": {
   "display_name": "Python 3",
   "language": "python",
   "name": "python3"
  },
  "language_info": {
   "codemirror_mode": {
    "name": "ipython",
    "version": 3
   },
   "file_extension": ".py",
   "mimetype": "text/x-python",
   "name": "python",
   "nbconvert_exporter": "python",
   "pygments_lexer": "ipython3",
   "version": "3.11.4"
  }
 },
 "nbformat": 4,
 "nbformat_minor": 2
}
