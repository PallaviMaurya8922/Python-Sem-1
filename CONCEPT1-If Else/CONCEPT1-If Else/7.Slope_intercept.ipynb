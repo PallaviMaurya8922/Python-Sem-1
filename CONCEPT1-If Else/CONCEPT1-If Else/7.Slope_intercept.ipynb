{
 "cells": [
  {
   "cell_type": "markdown",
   "metadata": {},
   "source": [
    "7.Given two points (x1, y1) and (x2, y2), find the slope and intercept of the line joining these two points (the line may be perfectly horizontal or vertical)."
   ]
  },
  {
   "cell_type": "code",
   "execution_count": 5,
   "metadata": {},
   "outputs": [],
   "source": [
    "# We take coordinates of two points as input from user\n",
    "# First point is (x1,y1) and second is (x2,y2)\n",
    "def m_intercept(x1,y1,x2,y2):\n",
    "    if x1==x2:\n",
    "        output=\"Line is vertical hence slope and intercept is not defined.\"\n",
    "    # In case where x1 is not equal to x2. Slope will be a finite value.\n",
    "    # both the points should satisfy the equation of line. Using this we can write its intercept as '(y1-m*x1)' or '(y2-m*x2)'.\n",
    "    else:\n",
    "        m=(y2-y1)/(x2-x1)\n",
    "        intcpt=y2-(m*x2)\n",
    "        output=\"Slope is\", m, \"and intercept is\", intcpt\n",
    "    return output"
   ]
  },
  {
   "cell_type": "code",
   "execution_count": 6,
   "metadata": {},
   "outputs": [
    {
     "data": {
      "text/plain": [
       "('Slope is', 0.0, 'and intercept is', 20.0)"
      ]
     },
     "execution_count": 6,
     "metadata": {},
     "output_type": "execute_result"
    }
   ],
   "source": [
    "m_intercept(100,20,122,20)"
   ]
  },
  {
   "cell_type": "code",
   "execution_count": 7,
   "metadata": {},
   "outputs": [
    {
     "data": {
      "text/plain": [
       "'Line is vertical hence slope and intercept is not defined.'"
      ]
     },
     "execution_count": 7,
     "metadata": {},
     "output_type": "execute_result"
    }
   ],
   "source": [
    "m_intercept(20,40,20,8)"
   ]
  },
  {
   "cell_type": "code",
   "execution_count": 8,
   "metadata": {},
   "outputs": [
    {
     "data": {
      "text/plain": [
       "('Slope is', -0.5, 'and intercept is', 10.0)"
      ]
     },
     "execution_count": 8,
     "metadata": {},
     "output_type": "execute_result"
    }
   ],
   "source": [
    "m_intercept(14,3,16,2)"
   ]
  },
  {
   "cell_type": "code",
   "execution_count": null,
   "metadata": {},
   "outputs": [],
   "source": []
  }
 ],
 "metadata": {
  "kernelspec": {
   "display_name": "Python 3",
   "language": "python",
   "name": "python3"
  },
  "language_info": {
   "codemirror_mode": {
    "name": "ipython",
    "version": 3
   },
   "file_extension": ".py",
   "mimetype": "text/x-python",
   "name": "python",
   "nbconvert_exporter": "python",
   "pygments_lexer": "ipython3",
   "version": "3.11.4"
  }
 },
 "nbformat": 4,
 "nbformat_minor": 2
}
