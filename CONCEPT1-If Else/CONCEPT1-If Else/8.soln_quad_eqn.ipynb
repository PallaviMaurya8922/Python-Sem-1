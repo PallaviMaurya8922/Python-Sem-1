{
 "cells": [
  {
   "cell_type": "markdown",
   "metadata": {},
   "source": [
    "8.Given a quadratic equation with coefficients a, b and c, find the two solutions (may be real or complex). You should not take the square root of a negative number in your code."
   ]
  },
  {
   "cell_type": "code",
   "execution_count": 3,
   "metadata": {},
   "outputs": [],
   "source": [
    "# Here we take coefficients of quadratic equation as input from User. \n",
    "# 'a' and 'b'  are the coefficients of x**2 and x respectively and 'c' is the constant term.\n",
    "\n",
    "def soln_quad(a,b,c):\n",
    "    disc=((b**2)-(4*a*c))\n",
    "    if disc>0:\n",
    "        soln1=((-b+(disc)**0.5)/(2*a))\n",
    "        soln2=((-b-(disc)**0.5)/(2*a))\n",
    "        type= \"Real and distinct\"\n",
    "        output= type,soln1,soln2\n",
    "    elif disc==0:\n",
    "        soln1=(-b)/(2*a)\n",
    "        soln2=(-b)/(2*a)\n",
    "        type=\"Real and equal\"\n",
    "        output=type,soln1,soln2\n",
    "    else:\n",
    "        real=(-b)/(2*a)\n",
    "        img=((-disc)**0.5/(2*a))\n",
    "        soln1=complex(real,img)\n",
    "        soln2=complex(real,-img)\n",
    "        type=\"Imaginary and distinct\"\n",
    "        output=type,soln1,soln2\n",
    "\n",
    "    return output "
   ]
  },
  {
   "cell_type": "code",
   "execution_count": 7,
   "metadata": {},
   "outputs": [
    {
     "data": {
      "text/plain": [
       "('Real and distinct', -1.0, -1.3333333333333333)"
      ]
     },
     "execution_count": 7,
     "metadata": {},
     "output_type": "execute_result"
    }
   ],
   "source": [
    "soln_quad(3,7,4)"
   ]
  },
  {
   "cell_type": "code",
   "execution_count": 2,
   "metadata": {},
   "outputs": [
    {
     "data": {
      "text/plain": [
       "('Imaginary and distinct', (-1.5+1.6583123951777j), (-1.5-1.6583123951777j))"
      ]
     },
     "execution_count": 2,
     "metadata": {},
     "output_type": "execute_result"
    }
   ],
   "source": [
    "soln_quad(1,3,5)"
   ]
  },
  {
   "cell_type": "code",
   "execution_count": 4,
   "metadata": {},
   "outputs": [
    {
     "data": {
      "text/plain": [
       "('Real and equal', -2.0, -2.0)"
      ]
     },
     "execution_count": 4,
     "metadata": {},
     "output_type": "execute_result"
    }
   ],
   "source": [
    "soln_quad(1,4,4)"
   ]
  },
  {
   "cell_type": "code",
   "execution_count": null,
   "metadata": {},
   "outputs": [],
   "source": []
  }
 ],
 "metadata": {
  "kernelspec": {
   "display_name": "Python 3",
   "language": "python",
   "name": "python3"
  },
  "language_info": {
   "codemirror_mode": {
    "name": "ipython",
    "version": 3
   },
   "file_extension": ".py",
   "mimetype": "text/x-python",
   "name": "python",
   "nbconvert_exporter": "python",
   "pygments_lexer": "ipython3",
   "version": "3.11.4"
  }
 },
 "nbformat": 4,
 "nbformat_minor": 2
}
