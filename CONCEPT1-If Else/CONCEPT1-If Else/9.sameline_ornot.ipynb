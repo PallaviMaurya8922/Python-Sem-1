{
 "cells": [
  {
   "cell_type": "markdown",
   "metadata": {},
   "source": [
    "9.Given three points, find out whether they lie on the same straight line or not."
   ]
  },
  {
   "cell_type": "code",
   "execution_count": 8,
   "metadata": {},
   "outputs": [],
   "source": [
    "# take three points as input from user.\n",
    "# Points are (x1,y1), (x2,y2) and (x3,y3).\n",
    "def my_func(x1,y1,x2,y2,x3,y3):\n",
    "    # When all the x coordinates are equal they would lie on the same vertical line whose x coordinate will be fixed.\n",
    "    if x1==x2==x3:\n",
    "        output=\"Points lie on same straight line\"\n",
    "    # if x coordinates are not equal and the slope using any two points are equal, that shows that they lie on the same line.\n",
    "    elif x1!=x2!=x3:\n",
    "        if (y2-y1)/(x2-x1)==(y3-y1)/(x3-x1):\n",
    "            output=\"Points lie on same line\"\n",
    "    # after this step only one condition remains in which only two of x coordinates are equal and third one is different\n",
    "    # In that case slope using those points having equal x coordinates will go to infinity and other slopes using the point having different x coordinate will have a finite value. \n",
    "    # Which shows that they do not lie on the same line.\n",
    "        else:\n",
    "            output=\"Points does not lie on the same line\"\n",
    "    else:\n",
    "        output=\"Points does not lie on the same line\"     \n",
    "    return output"
   ]
  },
  {
   "cell_type": "code",
   "execution_count": 3,
   "metadata": {},
   "outputs": [
    {
     "data": {
      "text/plain": [
       "'Points lie on same straight line'"
      ]
     },
     "execution_count": 3,
     "metadata": {},
     "output_type": "execute_result"
    }
   ],
   "source": [
    "my_func(2,40,2,66,2,12)\n",
    "    "
   ]
  },
  {
   "cell_type": "code",
   "execution_count": 5,
   "metadata": {},
   "outputs": [
    {
     "data": {
      "text/plain": [
       "'Points does not lie on the sameline'"
      ]
     },
     "execution_count": 5,
     "metadata": {},
     "output_type": "execute_result"
    }
   ],
   "source": [
    "my_func(2,12,2,16,4,22)"
   ]
  },
  {
   "cell_type": "code",
   "execution_count": 6,
   "metadata": {},
   "outputs": [
    {
     "data": {
      "text/plain": [
       "'Points lie on same line'"
      ]
     },
     "execution_count": 6,
     "metadata": {},
     "output_type": "execute_result"
    }
   ],
   "source": [
    "my_func(2,6,4,8,10,14)"
   ]
  },
  {
   "cell_type": "code",
   "execution_count": 7,
   "metadata": {},
   "outputs": [
    {
     "data": {
      "text/plain": [
       "'Points does not lie on the same line'"
      ]
     },
     "execution_count": 7,
     "metadata": {},
     "output_type": "execute_result"
    }
   ],
   "source": [
    "my_func(2,20,4,56,5,54)"
   ]
  },
  {
   "cell_type": "code",
   "execution_count": null,
   "metadata": {},
   "outputs": [],
   "source": []
  }
 ],
 "metadata": {
  "kernelspec": {
   "display_name": "Python 3",
   "language": "python",
   "name": "python3"
  },
  "language_info": {
   "codemirror_mode": {
    "name": "ipython",
    "version": 3
   },
   "file_extension": ".py",
   "mimetype": "text/x-python",
   "name": "python",
   "nbconvert_exporter": "python",
   "pygments_lexer": "ipython3",
   "version": "3.11.4"
  }
 },
 "nbformat": 4,
 "nbformat_minor": 2
}
