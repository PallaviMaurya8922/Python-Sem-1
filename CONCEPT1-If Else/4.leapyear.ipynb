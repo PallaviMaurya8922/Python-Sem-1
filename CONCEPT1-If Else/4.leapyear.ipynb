{
 "cells": [
  {
   "cell_type": "code",
   "execution_count": 4,
   "metadata": {},
   "outputs": [],
   "source": [
    "def func_year(a):\n",
    "    # If a year is divisible by 4 when it does not have two zeroes in the end, then it is a leap year.\n",
    "    if a%100!=0 and a%4:\n",
    "        output=\"This is leap year\"\n",
    "    # for a year with two zeroes at the end it should be divisible with 400.\n",
    "    elif a%400==0:\n",
    "        output=\"This is leap year.\"\n",
    "    else:\n",
    "        output=\"This is not a leap year.\"\n",
    "    return output"
   ]
  },
  {
   "cell_type": "code",
   "execution_count": 5,
   "metadata": {},
   "outputs": [
    {
     "data": {
      "text/plain": [
       "'This is leap year.'"
      ]
     },
     "execution_count": 5,
     "metadata": {},
     "output_type": "execute_result"
    }
   ],
   "source": [
    "func_year(2000)"
   ]
  },
  {
   "cell_type": "code",
   "execution_count": null,
   "metadata": {},
   "outputs": [],
   "source": []
  }
 ],
 "metadata": {
  "kernelspec": {
   "display_name": "Python 3",
   "language": "python",
   "name": "python3"
  },
  "language_info": {
   "codemirror_mode": {
    "name": "ipython",
    "version": 3
   },
   "file_extension": ".py",
   "mimetype": "text/x-python",
   "name": "python",
   "nbconvert_exporter": "python",
   "pygments_lexer": "ipython3",
   "version": "3.11.4"
  }
 },
 "nbformat": 4,
 "nbformat_minor": 2
}
